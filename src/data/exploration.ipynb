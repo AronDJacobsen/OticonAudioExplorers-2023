{
 "cells": [
  {
   "attachments": {},
   "cell_type": "markdown",
   "metadata": {},
   "source": [
    "# Data Exploration - Oticon Audio Explorers"
   ]
  },
  {
   "cell_type": "code",
   "execution_count": 35,
   "metadata": {},
   "outputs": [],
   "source": [
    "from pathlib2 import Path\n",
    "\n",
    "import numpy as np\n",
    "import pandas as pd\n",
    "\n",
    "from scipy.io import loadmat\n",
    "\n",
    "import matplotlib.pyplot as plt"
   ]
  },
  {
   "attachments": {},
   "cell_type": "markdown",
   "metadata": {},
   "source": [
    "### Load data"
   ]
  },
  {
   "cell_type": "code",
   "execution_count": 11,
   "metadata": {},
   "outputs": [],
   "source": [
    "DATA_DIR = Path('../../data')\n",
    "\n",
    "# Load npy-files\n",
    "Xtrain  = np.load(DATA_DIR / 'raw/npy/training.npy')\n",
    "ttrain  = np.load(DATA_DIR / 'raw/npy/training_labels.npy')\n",
    "Xtest   = np.load(DATA_DIR / 'raw/npy/test.npy')\n",
    "\n",
    "# Load matlab files\n",
    "Xtrain_mat = loadmat(DATA_DIR / 'raw/mat/training.mat', squeeze_me=True)\n",
    "ttrain_mat = loadmat(DATA_DIR / 'raw/mat/training_labels.mat', squeeze_me=True)\n",
    "Xtest_mat = loadmat(DATA_DIR / 'raw/mat/test.mat', squeeze_me=True)\n",
    "\n",
    "# Ensure no data difference\n",
    "assert np.all(Xtrain_mat['data'] == Xtrain)\n",
    "assert np.all(ttrain_mat['data'] == ttrain)\n",
    "assert np.all(Xtest_mat['data'] == Xtest)\n",
    "\n",
    "# Clean up\n",
    "del Xtrain_mat\n",
    "del ttrain_mat\n",
    "del Xtest_mat"
   ]
  },
  {
   "cell_type": "code",
   "execution_count": 42,
   "metadata": {},
   "outputs": [
    {
     "name": "stdout",
     "output_type": "stream",
     "text": [
      "Xtrain: (52890, 32, 96)\n",
      "ttrain: (52890,)\n",
      "Xtest: (5347, 32, 96)\n",
      "\n",
      "ttrain in --> [0 1 2 3 4]\n",
      "Xtrain (min, max): (-80.0, 7.6293945e-06)\n"
     ]
    }
   ],
   "source": [
    "print(f\"Xtrain: {Xtrain.shape}\")\n",
    "print(f\"ttrain: {ttrain.shape}\")\n",
    "print(f\"Xtest: {Xtest.shape}\")\n",
    "\n",
    "print(f\"\\nttrain in --> {np.unique(ttrain)}\")\n",
    "\n",
    "print(f\"\\nXtrain (min, max): {Xtrain.min(), Xtrain.max()}\")\n",
    "print(f\"\\nXtrain (min, max): {Xtrain.min(), Xtrain.max()}\")\n",
    "print(f\"\\nXtrain (min, max): {Xtrain.min(), Xtrain.max()}\")"
   ]
  },
  {
   "cell_type": "code",
   "execution_count": 41,
   "metadata": {},
   "outputs": [
    {
     "data": {
      "text/plain": [
       "-80.0"
      ]
     },
     "execution_count": 41,
     "metadata": {},
     "output_type": "execute_result"
    }
   ],
   "source": [
    "Xtrain.min()"
   ]
  },
  {
   "cell_type": "code",
   "execution_count": 36,
   "metadata": {},
   "outputs": [
    {
     "data": {
      "image/png": "[encoded data removed]",
      "text/plain": [
       "<Figure size 640x480 with 1 Axes>"
      ]
     },
     "metadata": {},
     "output_type": "display_data"
    }
   ],
   "source": [
    "plt.imshow(Xtrain[0])\n",
    "plt.show()"
   ]
  },
  {
   "cell_type": "markdown",
   "metadata": {},
   "source": []
  },
  {
   "cell_type": "code",
   "execution_count": 31,
   "metadata": {},
   "outputs": [
    {
     "data": {
      "text/plain": [
       "array([0, 1, 2, 3, 4])"
      ]
     },
     "execution_count": 31,
     "metadata": {},
     "output_type": "execute_result"
    }
   ],
   "source": []
  },
  {
   "cell_type": "code",
   "execution_count": null,
   "metadata": {},
   "outputs": [],
   "source": []
  }
 ],
 "metadata": {
  "kernelspec": {
   "display_name": "bayesian_ml",
   "language": "python",
   "name": "python3"
  },
  "language_info": {
   "codemirror_mode": {
    "name": "ipython",
    "version": 3
   },
   "file_extension": ".py",
   "mimetype": "text/x-python",
   "name": "python",
   "nbconvert_exporter": "python",
   "pygments_lexer": "ipython3",
   "version": "3.10.10"
  },
  "orig_nbformat": 4
 },
 "nbformat": 4,
 "nbformat_minor": 2
}
