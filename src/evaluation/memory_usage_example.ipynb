{
 "cells": [
  {
   "cell_type": "code",
   "execution_count": 32,
   "metadata": {},
   "outputs": [],
   "source": [
    "with open('memory_profile.log', 'r') as f:\n",
    "    temp = [line_ for line_ in f.read().splitlines() if line_ != '']"
   ]
  },
  {
   "cell_type": "code",
   "execution_count": 33,
   "metadata": {},
   "outputs": [
    {
     "data": {
      "text/plain": [
       "['2023-04-15 21:38:46,209 - memory_profile_log - INFO - Filename: C:\\\\Users\\\\alber\\\\Desktop\\\\projects\\\\OticonAudioExplorers-2023\\\\src\\\\evaluation\\\\memory_usage_example.py',\n",
       " '2023-04-15 21:38:46,210 - memory_profile_log - INFO - Line #    Mem usage    Increment  Occurrences   Line Contents',\n",
       " '2023-04-15 21:38:46,210 - memory_profile_log - INFO -     31     75.8 MiB     75.8 MiB           1   @profile',\n",
       " \"2023-04-15 21:38:46,210 - memory_profile_log - INFO -     33    695.7 MiB    619.9 MiB           1       temp = np.load('data/raw/training_new.npy')\",\n",
       " '2023-04-15 21:38:46,210 - memory_profile_log - INFO -     34   1315.5 MiB    619.8 MiB           1       a = np.load(\"data/raw/training_new.npy\")']"
      ]
     },
     "execution_count": 33,
     "metadata": {},
     "output_type": "execute_result"
    }
   ],
   "source": [
    "temp"
   ]
  }
 ],
 "metadata": {
  "kernelspec": {
   "display_name": "oticon",
   "language": "python",
   "name": "python3"
  },
  "language_info": {
   "codemirror_mode": {
    "name": "ipython",
    "version": 3
   },
   "file_extension": ".py",
   "mimetype": "text/x-python",
   "name": "python",
   "nbconvert_exporter": "python",
   "pygments_lexer": "ipython3",
   "version": "3.10.10"
  },
  "orig_nbformat": 4
 },
 "nbformat": 4,
 "nbformat_minor": 2
}
