{
 "cells": [
  {
   "cell_type": "code",
   "execution_count": 1,
   "metadata": {},
   "outputs": [],
   "source": [
    "import time\n",
    "import pandas as pd\n",
    "import numpy as np\n",
    "\n",
    "from codecarbon import EmissionsTracker"
   ]
  },
  {
   "cell_type": "code",
   "execution_count": 2,
   "metadata": {},
   "outputs": [
    {
     "name": "stderr",
     "output_type": "stream",
     "text": [
      "[codecarbon INFO @ 21:52:25] [setup] RAM Tracking...\n",
      "[codecarbon INFO @ 21:52:25] [setup] GPU Tracking...\n",
      "[codecarbon INFO @ 21:52:27] Tracking Nvidia GPU via pynvml\n",
      "[codecarbon INFO @ 21:52:27] [setup] CPU Tracking...\n",
      "[codecarbon WARNING @ 21:52:27] No CPU tracking mode found. Falling back on CPU constant mode.\n",
      "[codecarbon WARNING @ 21:52:30] We saw that you have a 11th Gen Intel(R) Core(TM) i7-11375H @ 3.30GHz but we don't know it. Please contact us.\n",
      "[codecarbon INFO @ 21:52:30] CPU Model on constant consumption mode: 11th Gen Intel(R) Core(TM) i7-11375H @ 3.30GHz\n",
      "[codecarbon INFO @ 21:52:30] >>> Tracker's metadata:\n",
      "[codecarbon INFO @ 21:52:30]   Platform system: Windows-10-10.0.22621-SP0\n",
      "[codecarbon INFO @ 21:52:30]   Python version: 3.10.10\n",
      "[codecarbon INFO @ 21:52:30]   Available RAM : 15.709 GB\n",
      "[codecarbon INFO @ 21:52:30]   CPU count: 8\n",
      "[codecarbon INFO @ 21:52:30]   CPU model: 11th Gen Intel(R) Core(TM) i7-11375H @ 3.30GHz\n",
      "[codecarbon INFO @ 21:52:30]   GPU count: 1\n",
      "[codecarbon INFO @ 21:52:30]   GPU model: 1 x NVIDIA GeForce RTX 3060 Laptop GPU\n",
      "[codecarbon INFO @ 21:52:33] Energy consumed for RAM : 0.000000 kWh. RAM Power : 5.890801906585694 W\n"
     ]
    },
    {
     "name": "stdout",
     "output_type": "stream",
     "text": [
      "Time used: 0.0\n"
     ]
    },
    {
     "name": "stderr",
     "output_type": "stream",
     "text": [
      "[codecarbon INFO @ 21:52:33] Energy consumed for all GPUs : 0.000000 kWh. All GPUs Power : 0.0 W\n",
      "[codecarbon INFO @ 21:52:33] Energy consumed for all CPUs : 0.000009 kWh. All CPUs Power : 42.5 W\n",
      "[codecarbon INFO @ 21:52:33] 0.000009 kWh of electricity used since the begining.\n"
     ]
    },
    {
     "data": {
      "text/plain": [
       "1.0942566692829133e-06"
      ]
     },
     "execution_count": 2,
     "metadata": {},
     "output_type": "execute_result"
    }
   ],
   "source": [
    "tracker = EmissionsTracker()\n",
    "tracker.start()\n",
    "\n",
    "start = time.time()\n",
    "a = np.arange(1)\n",
    "print(f\"Time used: {time.time() - start}\")\n",
    "\n",
    "tracker.stop()"
   ]
  },
  {
   "cell_type": "code",
   "execution_count": 3,
   "metadata": {},
   "outputs": [
    {
     "data": {
      "text/html": [
       "<div>\n",
       "<style scoped>\n",
       "    .dataframe tbody tr th:only-of-type {\n",
       "        vertical-align: middle;\n",
       "    }\n",
       "\n",
       "    .dataframe tbody tr th {\n",
       "        vertical-align: top;\n",
       "    }\n",
       "\n",
       "    .dataframe thead th {\n",
       "        text-align: right;\n",
       "    }\n",
       "</style>\n",
       "<table border=\"1\" class=\"dataframe\">\n",
       "  <thead>\n",
       "    <tr style=\"text-align: right;\">\n",
       "      <th></th>\n",
       "      <th>timestamp</th>\n",
       "      <th>project_name</th>\n",
       "      <th>duration</th>\n",
       "      <th>emissions</th>\n",
       "      <th>emissions_rate</th>\n",
       "      <th>cpu_power</th>\n",
       "      <th>gpu_power</th>\n",
       "      <th>ram_power</th>\n",
       "      <th>cpu_energy</th>\n",
       "      <th>gpu_energy</th>\n",
       "      <th>ram_energy</th>\n",
       "      <th>energy_consumed</th>\n",
       "      <th>os</th>\n",
       "      <th>python_version</th>\n",
       "      <th>cpu_count</th>\n",
       "      <th>cpu_model</th>\n",
       "      <th>gpu_count</th>\n",
       "      <th>gpu_model</th>\n",
       "      <th>ram_total_size</th>\n",
       "    </tr>\n",
       "  </thead>\n",
       "  <tbody>\n",
       "    <tr>\n",
       "      <th>0</th>\n",
       "      <td>2023-04-15T21:52:34</td>\n",
       "      <td>codecarbon</td>\n",
       "      <td>0.803553</td>\n",
       "      <td>0.000001</td>\n",
       "      <td>0.001362</td>\n",
       "      <td>42.5</td>\n",
       "      <td>0.0</td>\n",
       "      <td>5.890802</td>\n",
       "      <td>0.000009</td>\n",
       "      <td>0.0</td>\n",
       "      <td>0.0</td>\n",
       "      <td>0.000009</td>\n",
       "      <td>Windows-10-10.0.22621-SP0</td>\n",
       "      <td>3.10.10</td>\n",
       "      <td>8</td>\n",
       "      <td>11th Gen Intel(R) Core(TM) i7-11375H @ 3.30GHz</td>\n",
       "      <td>1</td>\n",
       "      <td>1 x NVIDIA GeForce RTX 3060 Laptop GPU</td>\n",
       "      <td>15.708805</td>\n",
       "    </tr>\n",
       "  </tbody>\n",
       "</table>\n",
       "</div>"
      ],
      "text/plain": [
       "             timestamp project_name  duration  emissions  emissions_rate   \n",
       "0  2023-04-15T21:52:34   codecarbon  0.803553   0.000001        0.001362  \\\n",
       "\n",
       "   cpu_power  gpu_power  ram_power  cpu_energy  gpu_energy  ram_energy   \n",
       "0       42.5        0.0   5.890802    0.000009         0.0         0.0  \\\n",
       "\n",
       "   energy_consumed                         os python_version  cpu_count   \n",
       "0         0.000009  Windows-10-10.0.22621-SP0        3.10.10          8  \\\n",
       "\n",
       "                                        cpu_model  gpu_count   \n",
       "0  11th Gen Intel(R) Core(TM) i7-11375H @ 3.30GHz          1  \\\n",
       "\n",
       "                                gpu_model  ram_total_size  \n",
       "0  1 x NVIDIA GeForce RTX 3060 Laptop GPU       15.708805  "
      ]
     },
     "execution_count": 3,
     "metadata": {},
     "output_type": "execute_result"
    }
   ],
   "source": [
    "temp = pd.read_csv('emissions.csv')\n",
    "\n",
    "temp[[\n",
    "    'timestamp', 'project_name', 'duration', \n",
    "    'emissions', 'emissions_rate', \n",
    "    'cpu_power', 'gpu_power', 'ram_power', \n",
    "    'cpu_energy', 'gpu_energy', 'ram_energy', 'energy_consumed', \n",
    "    'os', 'python_version', \n",
    "    'cpu_count', 'cpu_model', 'gpu_count', 'gpu_model', \n",
    "    'ram_total_size'\n",
    "]]"
   ]
  },
  {
   "cell_type": "code",
   "execution_count": null,
   "metadata": {},
   "outputs": [],
   "source": [
    "pd.read_csv()"
   ]
  }
 ],
 "metadata": {
  "kernelspec": {
   "display_name": "oticon",
   "language": "python",
   "name": "python3"
  },
  "language_info": {
   "codemirror_mode": {
    "name": "ipython",
    "version": 3
   },
   "file_extension": ".py",
   "mimetype": "text/x-python",
   "name": "python",
   "nbconvert_exporter": "python",
   "pygments_lexer": "ipython3",
   "version": "3.10.10"
  },
  "orig_nbformat": 4
 },
 "nbformat": 4,
 "nbformat_minor": 2
}
